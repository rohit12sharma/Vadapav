{
 "cells": [
  {
   "cell_type": "code",
   "execution_count": 0,
   "metadata": {
    "colab": {
     "autoexec": {
      "startup": false,
      "wait_interval": 0
     }
    },
    "colab_type": "code",
    "collapsed": true,
    "id": "Xeae9B4i8IUI"
   },
   "outputs": [],
   "source": [
    "import html5lib"
   ]
  },
  {
   "cell_type": "code",
   "execution_count": 0,
   "metadata": {
    "colab": {
     "autoexec": {
      "startup": false,
      "wait_interval": 0
     }
    },
    "colab_type": "code",
    "collapsed": true,
    "id": "EHgIjUes7M0R"
   },
   "outputs": [],
   "source": [
    "import urllib\n",
    "import urllib.request\n",
    "import requests\n",
    "from bs4 import BeautifulSoup\n",
    "import os\n",
    "import cv2\n",
    "import numpy as np \n",
    "\n",
    "\n",
    "pic_num = 1\n",
    "\n",
    "def store_raw_images(paths, links):\n",
    "    filename=[]\n",
    "    global pic_num\n",
    "    #print(links)\n",
    "    r = requests.get(links)\n",
    "    #print(r)\n",
    "    data = r.text\n",
    "    #print(data)\n",
    "    soup = BeautifulSoup(data, \"html5lib\")\n",
    "    # In[8]:\n",
    "    \n",
    "    for l in soup.find_all('img'):\n",
    "        #print(l)\n",
    "        image_urls = l.get(\"src\")\n",
    "        filename.append(image_urls)\n",
    "    \n",
    "        if not os.path.exists(paths):\n",
    "            os.makedirs(paths)\n",
    "        #image_urls = str(urllib.request.urlopen(link).read())\n",
    "        for i in range(len(filename)-90):\n",
    "            #print(filename[i])\n",
    "            loadImage(paths,filename[i],pic_num)\n",
    "            pic_num = pic_num+1\n",
    "             \n",
    "        \n",
    "                    \n",
    "def loadImage(path,link, counter):\n",
    "    global pic_num\n",
    "    if pic_num < counter:\n",
    "        pic_num = counter+1;\n",
    "    try:                \n",
    "        urllib.request.urlretrieve(link, path+\"/\"+str(counter)+\".jpg\")\n",
    "        img = cv2.imread(path+\"/\"+str(counter)+\".jpg\")             \n",
    "        if img is not None:\n",
    "            cv2.imwrite(path+\"/\"+str(counter)+\".jpg\",img)\n",
    "            #print(counter)\n",
    "\n",
    "    except Exception as e:\n",
    "        print(str(e))  \n"
   ]
  },
  {
   "cell_type": "code",
   "execution_count": 0,
   "metadata": {
    "colab": {
     "autoexec": {
      "startup": false,
      "wait_interval": 0
     }
    },
    "colab_type": "code",
    "collapsed": true,
    "id": "vYBbJIRF7SY3"
   },
   "outputs": [],
   "source": [
    "links = 'https://www.shutterstock.com/search/plane'\n",
    "paths = 'Notvadapav'\n",
    "store_raw_images(paths,links)"
   ]
  },
  {
   "cell_type": "code",
   "execution_count": 0,
   "metadata": {
    "colab": {
     "autoexec": {
      "startup": false,
      "wait_interval": 0
     }
    },
    "colab_type": "code",
    "collapsed": true,
    "id": "sqHZ3iB57ckQ"
   },
   "outputs": [],
   "source": [
    "links = 'https://www.shutterstock.com/search/vadapav'\n",
    "paths = 'vadapav'\n",
    "store_raw_images(paths,links)"
   ]
  },
  {
   "cell_type": "code",
   "execution_count": 0,
   "metadata": {
    "colab": {
     "autoexec": {
      "startup": false,
      "wait_interval": 0
     }
    },
    "colab_type": "code",
    "collapsed": true,
    "id": "4GAQNYjVJec5"
   },
   "outputs": [],
   "source": [
    "import tensorflow as tf\n",
    "from skimage import exposure\n",
    "from tensorflow.contrib.layers import flatten\n",
    "from sklearn.preprocessing import LabelBinarizer\n",
    "from sklearn.preprocessing import StandardScaler\n",
    "from sklearn.model_selection import train_test_split\n",
    "\n",
    "from tensorflow.contrib.layers import flatten\n",
    "from keras.models import Sequential\n",
    "from keras.layers.core import Dense, Activation, Flatten, Dropout\n",
    "from keras.layers.convolutional import Convolution2D\n",
    "from keras.layers.pooling import MaxPooling2D\n",
    "\n",
    "import matplotlib.pyplot as plt\n",
    "import glob\n"
   ]
  },
  {
   "cell_type": "code",
   "execution_count": 0,
   "metadata": {
    "colab": {
     "autoexec": {
      "startup": false,
      "wait_interval": 0
     }
    },
    "colab_type": "code",
    "collapsed": true,
    "id": "_-mvqRi9JoBB"
   },
   "outputs": [],
   "source": [
    "def rotateImage(img, angle):\n",
    "    (rows, cols, ch) = img.shape\n",
    "    M = cv2.getRotationMatrix2D((cols/2,rows/2), angle, 1)\n",
    "    return cv2.warpAffine(img, M, (cols,rows))\n",
    "    \n",
    "    \n",
    "def loadBlurImg(path, imgSize):\n",
    "    img = cv2.imread(path)\n",
    "    angle = np.random.randint(0, 360)\n",
    "    img = rotateImage(img, angle)\n",
    "    img = cv2.blur(img,(5,5))\n",
    "    img = cv2.resize(img, imgSize)\n",
    "    return img\n",
    "\n",
    "def loadImgClass(classPath, classLable, classSize, imgSize):\n",
    "    x = []\n",
    "    y = []\n",
    "    \n",
    "    for path in classPath:\n",
    "        img = loadBlurImg(path, imgSize)        \n",
    "        x.append(img)\n",
    "        y.append(classLable)\n",
    "        #print(len(x))\n",
    "        \n",
    "    while len(x) < classSize:\n",
    "        randIdx = np.random.randint(0, len(classPath))\n",
    "        img = loadBlurImg(classPath[randIdx], imgSize)\n",
    "        x.append(img)\n",
    "        y.append(classLable)\n",
    "        \n",
    "    return x, y\n",
    "\n",
    "def loadData(img_size, classSize):\n",
    "    vadapav = glob.glob('./vadapav/**/*.jpg', recursive=True)\n",
    "    notvadapav = glob.glob('./Notvadapav/**/*.jpg', recursive=True)\n",
    "    \n",
    "    \n",
    "    imgSize = (img_size, img_size)\n",
    "    xvadapav, yvadapav = loadImgClass(vadapav, 1, classSize, imgSize)\n",
    "    xNotvadapav, yNotvadapav = loadImgClass(notvadapav, 0, classSize, imgSize)\n",
    "    print(\"There are\", len(xvadapav), \"vadapav images\")\n",
    "    print(\"There are\", len(xNotvadapav), \"not vadapav images\")\n",
    "    \n",
    "    X = np.array(xvadapav + xNotvadapav)\n",
    "    y = np.array(yvadapav + yNotvadapav)\n",
    "    #y = y.reshape(y.shape + (1,))\n",
    "    return X, y"
   ]
  },
  {
   "cell_type": "code",
   "execution_count": 49,
   "metadata": {
    "colab": {
     "autoexec": {
      "startup": false,
      "wait_interval": 0
     },
     "base_uri": "https://localhost:8080/",
     "height": 68
    },
    "colab_type": "code",
    "collapsed": false,
    "executionInfo": {
     "elapsed": 3541,
     "status": "ok",
     "timestamp": 1532788360163,
     "user": {
      "displayName": "mark donald",
      "photoUrl": "https://lh3.googleusercontent.com/a/default-user=s128",
      "userId": "104796688245134533781"
     },
     "user_tz": -330
    },
    "id": "5_7uryfbJrbt",
    "outputId": "75e75c55-999a-4091-be76-94619044337f"
   },
   "outputs": [
    {
     "name": "stdout",
     "output_type": "stream",
     "text": [
      "There are 500 vadapav images\n",
      "There are 500 not vadapav images\n",
      "2\n"
     ]
    }
   ],
   "source": [
    "size = 224\n",
    "classSize = 500\n",
    "\n",
    "scaled_X, y = loadData(size, classSize)\n",
    "\n",
    "n_classes = len(np.unique(y))\n",
    "print(n_classes)\n",
    "\n",
    "from keras.utils.np_utils import to_categorical\n",
    "y = to_categorical(y)"
   ]
  },
  {
   "cell_type": "code",
   "execution_count": 50,
   "metadata": {
    "colab": {
     "autoexec": {
      "startup": false,
      "wait_interval": 0
     },
     "base_uri": "https://localhost:8080/",
     "height": 68
    },
    "colab_type": "code",
    "collapsed": false,
    "executionInfo": {
     "elapsed": 772,
     "status": "ok",
     "timestamp": 1532788363403,
     "user": {
      "displayName": "mark donald",
      "photoUrl": "https://lh3.googleusercontent.com/a/default-user=s128",
      "userId": "104796688245134533781"
     },
     "user_tz": -330
    },
    "id": "IB-b5o73JsPA",
    "outputId": "5faefd64-72de-42b7-c90c-263c21218b0d"
   },
   "outputs": [
    {
     "name": "stdout",
     "output_type": "stream",
     "text": [
      "Number of classes = 2\n",
      "train shape X (800, 224, 224, 3)\n",
      "train shape y (800, 2)\n"
     ]
    }
   ],
   "source": [
    "rand_state = np.random.randint(0, 100)\n",
    "\n",
    "X_train, X_test, y_train, y_test = train_test_split(scaled_X, y, test_size=0.2, random_state=rand_state)\n",
    "\n",
    "print(\"Number of classes =\", n_classes)\n",
    "print(\"train shape X\", X_train.shape)\n",
    "print(\"train shape y\", y_train.shape)"
   ]
  },
  {
   "cell_type": "code",
   "execution_count": 0,
   "metadata": {
    "colab": {
     "autoexec": {
      "startup": false,
      "wait_interval": 0
     }
    },
    "colab_type": "code",
    "collapsed": true,
    "id": "FY30jQPgJuY8"
   },
   "outputs": [],
   "source": [
    "def kerasModel(inputShape):\n",
    "    model = Sequential()\n",
    "    model.add(Conv2D(64, (3, 3), input_shape=inputShape, activation='relu', kernel_constraint=maxnorm(3)))\n",
    "    model.add(Conv2D(32, (3, 3), activation='relu', kernel_constraint=maxnorm(3)))\n",
    "    model.add(MaxPooling2D(pool_size=(2, 2)))\n",
    "    #model.add(Conv2D(16, (3, 3), activation='relu', kernel_constraint=maxnorm(3)))\n",
    "    \n",
    "    #model.add(MaxPooling2D(pool_size=(2, 2)))\n",
    "    model.add(Flatten())\n",
    "    model.add(Dense(16, activation='relu', kernel_constraint=maxnorm(3)))\n",
    "    model.add(Dense(n_classes, activation='softmax'))\n",
    "    return model"
   ]
  },
  {
   "cell_type": "code",
   "execution_count": 54,
   "metadata": {
    "colab": {
     "autoexec": {
      "startup": false,
      "wait_interval": 0
     },
     "base_uri": "https://localhost:8080/",
     "height": 428
    },
    "colab_type": "code",
    "collapsed": false,
    "executionInfo": {
     "elapsed": 65010,
     "status": "ok",
     "timestamp": 1532788479595,
     "user": {
      "displayName": "mark donald",
      "photoUrl": "https://lh3.googleusercontent.com/a/default-user=s128",
      "userId": "104796688245134533781"
     },
     "user_tz": -330
    },
    "id": "u_Pj28waJv67",
    "outputId": "c10d7a7a-3c17-4f1b-f229-8ac675da2771"
   },
   "outputs": [
    {
     "name": "stdout",
     "output_type": "stream",
     "text": [
      "Epoch 1/10\n",
      "800/800 [==============================] - 7s 9ms/step - loss: 8.2471 - acc: 0.4788\n",
      "Epoch 2/10\n",
      "800/800 [==============================] - 6s 8ms/step - loss: 8.2202 - acc: 0.4900\n",
      "Epoch 3/10\n",
      "800/800 [==============================] - 6s 8ms/step - loss: 8.2202 - acc: 0.4900\n",
      "Epoch 4/10\n",
      "800/800 [==============================] - 6s 8ms/step - loss: 8.2202 - acc: 0.4900\n",
      "Epoch 5/10\n",
      "800/800 [==============================] - 6s 8ms/step - loss: 8.2202 - acc: 0.4900\n",
      "Epoch 6/10\n",
      "800/800 [==============================] - 6s 8ms/step - loss: 8.2202 - acc: 0.4900\n",
      "Epoch 7/10\n",
      "800/800 [==============================] - 6s 8ms/step - loss: 8.2202 - acc: 0.4900\n",
      "Epoch 8/10\n",
      "800/800 [==============================] - 6s 8ms/step - loss: 8.2202 - acc: 0.4900\n",
      "Epoch 9/10\n",
      "448/800 [===============>..............] - ETA: 2s - loss: 8.0950 - acc: 0.4978800/800 [==============================] - 6s 8ms/step - loss: 8.2202 - acc: 0.4900\n",
      "Epoch 10/10\n",
      "800/800 [==============================] - 6s 8ms/step - loss: 8.2202 - acc: 0.4900\n",
      "200/200 [==============================] - 1s 5ms/step\n",
      "loss: 7.414323883056641\n",
      "acc: 0.54\n"
     ]
    }
   ],
   "source": [
    "from keras.models import Sequential\n",
    "from keras.layers import Dense\n",
    "from keras.layers import Dropout\n",
    "from keras.layers import Flatten\n",
    "from keras.constraints import maxnorm\n",
    "from keras.optimizers import SGD\n",
    "from keras.layers.convolutional import Conv2D\n",
    "from keras.layers.convolutional import MaxPooling2D\n",
    "from keras.utils import np_utils\n",
    "from keras import backend as K\n",
    "\n",
    "inputShape = (size, size, 3)\n",
    "model = kerasModel(inputShape)\n",
    "\n",
    "model.compile('adam', 'categorical_crossentropy', ['accuracy'])\n",
    "history = model.fit(X_train, y_train, epochs=10)\n",
    "\n",
    "\n",
    "\n",
    "metrics = model.evaluate(X_test, y_test)\n",
    "for metric_i in range(len(model.metrics_names)):\n",
    "    metric_name = model.metrics_names[metric_i]\n",
    "    metric_value = metrics[metric_i]\n",
    "    print('{}: {}'.format(metric_name, metric_value))"
   ]
  },
  {
   "cell_type": "markdown",
   "metadata": {
    "colab": {
     "autoexec": {
      "startup": false,
      "wait_interval": 0
     }
    },
    "colab_type": "code",
    "id": "wCTWufcJLiOw"
   },
   "source": [
    "# so we get a accuracy of 54% by employing this basic cnn with limited data."
   ]
  },
  {
   "cell_type": "code",
   "execution_count": null,
   "metadata": {
    "collapsed": true
   },
   "outputs": [],
   "source": []
  }
 ],
 "metadata": {
  "accelerator": "GPU",
  "colab": {
   "collapsed_sections": [],
   "default_view": {},
   "name": "vadapav.ipynb",
   "provenance": [],
   "version": "0.3.2",
   "views": {}
  },
  "kernelspec": {
   "display_name": "Python 3",
   "language": "python",
   "name": "python3"
  },
  "language_info": {
   "codemirror_mode": {
    "name": "ipython",
    "version": 3
   },
   "file_extension": ".py",
   "mimetype": "text/x-python",
   "name": "python",
   "nbconvert_exporter": "python",
   "pygments_lexer": "ipython3",
   "version": "3.6.0"
  }
 },
 "nbformat": 4,
 "nbformat_minor": 0
}
